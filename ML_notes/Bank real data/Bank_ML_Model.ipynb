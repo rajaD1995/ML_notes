{
 "cells": [
  {
   "cell_type": "markdown",
   "id": "32a3f613",
   "metadata": {},
   "source": [
    "# 🤖 Bank Loan & Fraud Detection - Machine Learning Model\n",
    "This notebook builds a machine learning model to predict:\n",
    "\n",
    "✅ Loan Approval Status\n",
    "✅ Default Risk Assessment\n",
    "✅ Fraud Detection\n",
    "\n",
    "✅ Addressing real-world challenges such as:\n",
    "- Handling class imbalance\n",
    "- Regularization using Ridge and Lasso\n",
    "- Cross-validation for robust evaluation\n",
    "- Residual analysis for model validation"
   ]
  },
  {
   "cell_type": "code",
   "execution_count": null,
   "id": "c172998a",
   "metadata": {},
   "outputs": [],
   "source": [
    "\n",
    "# Import required libraries\n",
    "import pandas as pd\n",
    "import numpy as np\n",
    "import seaborn as sns\n",
    "import matplotlib.pyplot as plt\n",
    "from sklearn.model_selection import train_test_split, StratifiedKFold, cross_val_score\n",
    "from sklearn.linear_model import LogisticRegression, RidgeClassifier, LassoCV\n",
    "from sklearn.ensemble import RandomForestClassifier\n",
    "from sklearn.metrics import classification_report, confusion_matrix, accuracy_score\n",
    "from sklearn.preprocessing import StandardScaler\n",
    "from imblearn.over_sampling import SMOTE\n"
   ]
  },
  {
   "cell_type": "code",
   "execution_count": null,
   "id": "8c04bf1c",
   "metadata": {},
   "outputs": [],
   "source": [
    "\n",
    "# Load the processed dataset from EDA\n",
    "df_ml = pd.read_csv('Bank_Data_RealWorld.csv')\n",
    "\n",
    "# Define feature columns and target variables\n",
    "feature_cols = ['Age', 'Income', 'LoanAmount', 'LoanTerm', 'CreditHistory', 'TransactionCount', \n",
    "                'PropertyArea_Urban', 'PropertyArea_Semiurban', 'MaritalStatus_Married', 'MaritalStatus_Divorced']\n",
    "\n",
    "X = df_ml[feature_cols]\n",
    "y_loan_status = df_ml['LoanStatus']\n",
    "y_default_risk = df_ml['DefaultRisk']\n",
    "y_fraud_flag = df_ml['FraudFlag']\n",
    "\n",
    "# Scale the numerical features\n",
    "scaler = StandardScaler()\n",
    "X_scaled = scaler.fit_transform(X)\n",
    "\n",
    "# Split the data for Loan Approval Prediction\n",
    "X_train_l, X_test_l, y_train_l, y_test_l = train_test_split(X_scaled, y_loan_status, test_size=0.2, random_state=42, stratify=y_loan_status)\n"
   ]
  },
  {
   "cell_type": "code",
   "execution_count": null,
   "id": "dfa3d0b0",
   "metadata": {},
   "outputs": [],
   "source": [
    "\n",
    "# --- Loan Approval Prediction ---\n",
    "logistic_model = LogisticRegression(max_iter=1000)\n",
    "rf_model = RandomForestClassifier(n_estimators=100, random_state=42)\n",
    "\n",
    "# Fit the models\n",
    "logistic_model.fit(X_train_l, y_train_l)\n",
    "rf_model.fit(X_train_l, y_train_l)\n",
    "\n",
    "# Predictions\n",
    "y_pred_logistic_l = logistic_model.predict(X_test_l)\n",
    "y_pred_rf_l = rf_model.predict(X_test_l)\n",
    "\n",
    "# Evaluation Metrics\n",
    "print(\"Logistic Regression Accuracy:\", accuracy_score(y_test_l, y_pred_logistic_l))\n",
    "print(\"Random Forest Accuracy:\", accuracy_score(y_test_l, y_pred_rf_l))\n",
    "print(\"\\nClassification Report (Logistic):\\n\", classification_report(y_test_l, y_pred_logistic_l))\n",
    "print(\"\\nClassification Report (RF):\\n\", classification_report(y_test_l, y_pred_rf_l))\n"
   ]
  },
  {
   "cell_type": "code",
   "execution_count": null,
   "id": "5b1a7868",
   "metadata": {},
   "outputs": [],
   "source": [
    "\n",
    "# --- Handling Class Imbalance using SMOTE ---\n",
    "smote = SMOTE(random_state=42)\n",
    "X_resampled, y_resampled = smote.fit_resample(X_scaled, y_loan_status)\n",
    "\n",
    "# Split resampled data\n",
    "X_train_res, X_test_res, y_train_res, y_test_res = train_test_split(X_resampled, y_resampled, test_size=0.2, random_state=42, stratify=y_resampled)\n",
    "\n",
    "# Refit models on resampled data\n",
    "logistic_model.fit(X_train_res, y_train_res)\n",
    "rf_model.fit(X_train_res, y_train_res)\n",
    "\n",
    "# Predictions on resampled data\n",
    "y_pred_resampled_logistic = logistic_model.predict(X_test_res)\n",
    "y_pred_resampled_rf = rf_model.predict(X_test_res)\n",
    "\n",
    "# Evaluation\n",
    "print(\"Logistic Regression Accuracy after SMOTE:\", accuracy_score(y_test_res, y_pred_resampled_logistic))\n",
    "print(\"Random Forest Accuracy after SMOTE:\", accuracy_score(y_test_res, y_pred_resampled_rf))\n"
   ]
  },
  {
   "cell_type": "code",
   "execution_count": null,
   "id": "0fe5df82",
   "metadata": {},
   "outputs": [],
   "source": [
    "\n",
    "# --- Fraud and Default Prediction ---\n",
    "# Split for Fraud Detection\n",
    "X_train_f, X_test_f, y_train_f, y_test_f = train_test_split(X_scaled, y_fraud_flag, test_size=0.2, random_state=42, stratify=y_fraud_flag)\n",
    "\n",
    "# Fit Random Forest for Fraud Detection\n",
    "rf_fraud = RandomForestClassifier(n_estimators=100, random_state=42)\n",
    "rf_fraud.fit(X_train_f, y_train_f)\n",
    "\n",
    "# Predictions for Fraud\n",
    "y_pred_fraud = rf_fraud.predict(X_test_f)\n",
    "\n",
    "# Evaluation for Fraud\n",
    "print(\"Fraud Detection Accuracy:\", accuracy_score(y_test_f, y_pred_fraud))\n",
    "print(\"\\nClassification Report (Fraud Detection):\\n\", classification_report(y_test_f, y_pred_fraud))\n"
   ]
  }
 ],
 "metadata": {
  "kernelspec": {
   "display_name": "Python 3 (ipykernel)",
   "language": "python",
   "name": "python3"
  },
  "language_info": {
   "codemirror_mode": {
    "name": "ipython",
    "version": 3
   },
   "file_extension": ".py",
   "mimetype": "text/x-python",
   "name": "python",
   "nbconvert_exporter": "python",
   "pygments_lexer": "ipython3",
   "version": "3.11.5"
  }
 },
 "nbformat": 4,
 "nbformat_minor": 5
}
