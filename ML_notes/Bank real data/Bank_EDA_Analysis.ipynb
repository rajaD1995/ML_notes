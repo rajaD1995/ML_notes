{
 "cells": [
  {
   "cell_type": "markdown",
   "id": "3aee1b94",
   "metadata": {},
   "source": [
    "# 📊 Bank Loan and Credit Risk Data Analysis\n",
    "This notebook performs detailed Exploratory Data Analysis (EDA) on the **Bank Loan and Credit Risk Dataset**.\n",
    "\n",
    "✅ Handling missing values\n",
    "✅ Outlier detection and treatment\n",
    "✅ Feature encoding and transformation\n",
    "✅ Correlation analysis and feature selection\n",
    "✅ Visualization for pattern identification\n",
    "✅ Assumption checking and data preparation"
   ]
  },
  {
   "cell_type": "code",
   "execution_count": null,
   "id": "d99267a8",
   "metadata": {},
   "outputs": [],
   "source": [
    "\n",
    "# Import required libraries\n",
    "import pandas as pd\n",
    "import numpy as np\n",
    "import seaborn as sns\n",
    "import matplotlib.pyplot as plt\n",
    "from scipy import stats\n",
    "from sklearn.impute import SimpleImputer\n",
    "from sklearn.preprocessing import OneHotEncoder\n",
    "from sklearn.preprocessing import StandardScaler\n"
   ]
  },
  {
   "cell_type": "code",
   "execution_count": null,
   "id": "07be06af",
   "metadata": {},
   "outputs": [],
   "source": [
    "\n",
    "# Load the dataset\n",
    "df = pd.read_csv('Bank_Data_RealWorld.csv')\n",
    "\n",
    "# Dataset Overview\n",
    "print(\"Dataset Shape:\", df.shape)\n",
    "print(df.info())\n",
    "df.head()\n"
   ]
  },
  {
   "cell_type": "code",
   "execution_count": null,
   "id": "1d65d275",
   "metadata": {},
   "outputs": [],
   "source": [
    "\n",
    "# --- Handling Missing Values ---\n",
    "# Define imputer for numerical columns with mean strategy\n",
    "num_imputer = SimpleImputer(strategy='mean')\n",
    "num_cols = ['Income', 'LoanAmount', 'TransactionCount']\n",
    "df[num_cols] = num_imputer.fit_transform(df[num_cols])\n",
    "\n",
    "# Fill missing values for CreditHistory with mode\n",
    "df['CreditHistory'].fillna(df['CreditHistory'].mode()[0], inplace=True)\n",
    "print(\"Missing values after treatment:\\n\", df.isnull().sum())\n"
   ]
  },
  {
   "cell_type": "code",
   "execution_count": null,
   "id": "d84c629c",
   "metadata": {},
   "outputs": [],
   "source": [
    "\n",
    "# --- Outlier Detection and Treatment ---\n",
    "# Z-Score to identify outliers\n",
    "z_scores = np.abs(stats.zscore(df[num_cols]))\n",
    "df_no_outliers = df[(z_scores < 3).all(axis=1)]\n",
    "\n",
    "print(f\"Rows after outlier treatment: {df_no_outliers.shape[0]}\")\n"
   ]
  },
  {
   "cell_type": "code",
   "execution_count": null,
   "id": "9d85e4d0",
   "metadata": {},
   "outputs": [],
   "source": [
    "\n",
    "# --- Correlation Analysis ---\n",
    "# Calculate correlation matrix\n",
    "corr_matrix = df_no_outliers.corr()\n",
    "plt.figure(figsize=(12, 8))\n",
    "sns.heatmap(corr_matrix, annot=True, cmap='coolwarm', fmt='.2f')\n",
    "plt.title(\"Correlation Matrix\")\n",
    "plt.show()\n"
   ]
  },
  {
   "cell_type": "code",
   "execution_count": null,
   "id": "80c9ec3c",
   "metadata": {},
   "outputs": [],
   "source": [
    "\n",
    "# --- One-Hot Encoding for Categorical Variables ---\n",
    "df_encoded = pd.get_dummies(df_no_outliers, columns=['PropertyArea', 'MaritalStatus'], drop_first=True)\n",
    "\n",
    "# Scaling numerical features\n",
    "scaler = StandardScaler()\n",
    "num_scaled = scaler.fit_transform(df_encoded[num_cols])\n",
    "df_encoded[num_cols] = num_scaled\n",
    "\n",
    "print(\"Final dataset shape after encoding and scaling:\", df_encoded.shape)\n"
   ]
  }
 ],
 "metadata": {
  "kernelspec": {
   "display_name": "Python 3 (ipykernel)",
   "language": "python",
   "name": "python3"
  },
  "language_info": {
   "codemirror_mode": {
    "name": "ipython",
    "version": 3
   },
   "file_extension": ".py",
   "mimetype": "text/x-python",
   "name": "python",
   "nbconvert_exporter": "python",
   "pygments_lexer": "ipython3",
   "version": "3.11.5"
  }
 },
 "nbformat": 4,
 "nbformat_minor": 5
}
